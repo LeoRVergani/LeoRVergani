{
  "nbformat": 4,
  "nbformat_minor": 0,
  "metadata": {
    "colab": {
      "provenance": [],
      "authorship_tag": "ABX9TyNnBRPg+pMvoTBwk/L5hAy4",
      "include_colab_link": true
    },
    "kernelspec": {
      "name": "python3",
      "display_name": "Python 3"
    },
    "language_info": {
      "name": "python"
    }
  },
  "cells": [
    {
      "cell_type": "markdown",
      "metadata": {
        "id": "view-in-github",
        "colab_type": "text"
      },
      "source": [
        "<a href=\"https://colab.research.google.com/github/LeoRVergani/LeoRVergani/blob/main/Projeto_20_Andares.ipynb\" target=\"_parent\"><img src=\"https://colab.research.google.com/assets/colab-badge.svg\" alt=\"Open In Colab\"/></a>"
      ]
    },
    {
      "cell_type": "code",
      "execution_count": null,
      "metadata": {
        "id": "gotfV2vgoWnA"
      },
      "outputs": [],
      "source": []
    },
    {
      "cell_type": "markdown",
      "source": [
        "Precisamos imprimir um número para cada andar de um hotel de 20 andares. Porém, o dono do hotel é supersticioso e optou por não ter um 13ro andar.\n",
        "\n",
        "Escreva um código que imprima todos os números exceto o número 13.\n",
        "Escreva mais um código que resolva o mesmo problema, mas dessa vez usando o laço de repetição 'while'.\n",
        "\n",
        "Como desafio, imprima eles em ordem decrescente (20, 19, 18...)\n",
        "\n",
        "**Trabalhe esse código em seu IDE, suba ele para sua conta no GitHub e compartilhe o link desse projeto no campo ao lado para que outros desenvolvedores possam analisá-lo.**"
      ],
      "metadata": {
        "id": "27Jsdl0VoZRq"
      }
    },
    {
      "cell_type": "code",
      "source": [
        "i = 0\n",
        "while (i < 12):\n",
        "  i = i + 1\n",
        "  andar = str(i)\n",
        "  print('Andar - ' + andar)\n",
        "i = 13\n",
        "while (i < 20):\n",
        "  i = i + 1\n",
        "  andar = str(i)\n",
        "  print('Andar - ' + andar)"
      ],
      "metadata": {
        "id": "hMtH9yj2ol1d"
      },
      "execution_count": null,
      "outputs": []
    },
    {
      "cell_type": "code",
      "source": [
        "n = 21\n",
        "for n in range((n - 1), 13, -1):\n",
        "  print('Andar -', str(n))\n",
        "e = 13\n",
        "for e in range((n - 1), -1, -1):\n",
        "  print('Andar -', str(e))"
      ],
      "metadata": {
        "id": "k_Q-ylNbr39f"
      },
      "execution_count": null,
      "outputs": []
    }
  ]
}